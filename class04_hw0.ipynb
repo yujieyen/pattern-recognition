{
 "cells": [
  {
   "cell_type": "code",
   "execution_count": 32,
   "id": "856de935",
   "metadata": {},
   "outputs": [
    {
     "name": "stdout",
     "output_type": "stream",
     "text": [
      "a: 0.09090909090909091\n",
      "b: 0.2857142857142857\n",
      "a+b: 0.37662337662337664\n",
      "a+b-b: 0.09090909090909094\n"
     ]
    }
   ],
   "source": [
    "# numerical computation\n",
    "# ex01\n",
    "a= 1/11\n",
    "b= 2/7\n",
    "print(\"a:\",a)\n",
    "print(\"b:\",b)\n",
    "print(\"a+b:\",a+b)\n",
    "print(\"a+b-b:\",a+b-b)\n"
   ]
  },
  {
   "cell_type": "code",
   "execution_count": 33,
   "id": "c38f2b73",
   "metadata": {},
   "outputs": [
    {
     "data": {
      "text/plain": [
       "False"
      ]
     },
     "execution_count": 33,
     "metadata": {},
     "output_type": "execute_result"
    }
   ],
   "source": [
    "(a+b-b) == a "
   ]
  },
  {
   "cell_type": "code",
   "execution_count": 34,
   "id": "512b3485",
   "metadata": {},
   "outputs": [
    {
     "data": {
      "text/plain": [
       "True"
      ]
     },
     "execution_count": 34,
     "metadata": {},
     "output_type": "execute_result"
    }
   ],
   "source": [
    "import math\n",
    "math.isclose((a+b-b), a)"
   ]
  },
  {
   "cell_type": "code",
   "execution_count": 36,
   "id": "f15b3ac2",
   "metadata": {},
   "outputs": [
    {
     "data": {
      "text/plain": [
       "(0.8451542547285166, 0.8451542547285166, True)"
      ]
     },
     "execution_count": 36,
     "metadata": {},
     "output_type": "execute_result"
    }
   ],
   "source": [
    "# ex02\n",
    "a= 5\n",
    "b= 7\n",
    "c= (a**.5) / (b**.5)\n",
    "d= (a/b)**.5\n",
    "c, d, c==d"
   ]
  },
  {
   "cell_type": "code",
   "execution_count": 37,
   "id": "abb2c1bd",
   "metadata": {},
   "outputs": [
    {
     "data": {
      "text/plain": [
       "0.0"
      ]
     },
     "execution_count": 37,
     "metadata": {},
     "output_type": "execute_result"
    }
   ],
   "source": [
    "# 誤差之百分比\n",
    "error= (c-d)/c\n",
    "error"
   ]
  },
  {
   "cell_type": "code",
   "execution_count": 39,
   "id": "757bc4fc",
   "metadata": {},
   "outputs": [
    {
     "data": {
      "text/plain": [
       "(2, 3)"
      ]
     },
     "execution_count": 39,
     "metadata": {},
     "output_type": "execute_result"
    }
   ],
   "source": [
    "# 但有沒有改善空間，有！\n",
    "# 增加電腦的位元數 16bit --> 32 bit -->64 bit -->128 bit ->???\n",
    "# 還有沒有其他可能性？ \n",
    "# ===> Symbolic Computation\n",
    "\n",
    "import sympy\n",
    "a= sympy.Integer(2)\n",
    "b= sympy.Integer(3)\n",
    "a, b"
   ]
  },
  {
   "cell_type": "code",
   "execution_count": 40,
   "id": "fcd175d3",
   "metadata": {},
   "outputs": [
    {
     "data": {
      "text/latex": [
       "$\\displaystyle \\frac{\\sqrt{6}}{3}$"
      ],
      "text/plain": [
       "sqrt(6)/3"
      ]
     },
     "execution_count": 40,
     "metadata": {},
     "output_type": "execute_result"
    }
   ],
   "source": [
    "c= sympy.sqrt(a)/sympy.sqrt(b)\n",
    "c"
   ]
  },
  {
   "cell_type": "code",
   "execution_count": 41,
   "id": "35ab2014",
   "metadata": {},
   "outputs": [
    {
     "data": {
      "text/plain": [
       "False"
      ]
     },
     "execution_count": 41,
     "metadata": {},
     "output_type": "execute_result"
    }
   ],
   "source": [
    "c==d"
   ]
  },
  {
   "cell_type": "code",
   "execution_count": 42,
   "id": "3541c601",
   "metadata": {},
   "outputs": [
    {
     "data": {
      "text/latex": [
       "$\\displaystyle x^{3} + x + 1$"
      ],
      "text/plain": [
       "x**3 + x + 1"
      ]
     },
     "execution_count": 42,
     "metadata": {},
     "output_type": "execute_result"
    }
   ],
   "source": [
    "x= sympy.symbols('x')\n",
    "x\n",
    "f= 1 + x + x**3# 多項式 表示式 (expression)\n",
    "f"
   ]
  },
  {
   "cell_type": "code",
   "execution_count": 43,
   "id": "88ed50e8",
   "metadata": {},
   "outputs": [
    {
     "data": {
      "text/latex": [
       "$\\displaystyle 2 x^{3} + 2 x + 2$"
      ],
      "text/plain": [
       "2*x**3 + 2*x + 2"
      ]
     },
     "execution_count": 43,
     "metadata": {},
     "output_type": "execute_result"
    }
   ],
   "source": [
    "f+f  # 表示式 (expression) 的相加"
   ]
  },
  {
   "cell_type": "code",
   "execution_count": 44,
   "id": "9dc51491",
   "metadata": {},
   "outputs": [
    {
     "data": {
      "text/latex": [
       "$\\displaystyle \\left(x^{3} + x + 1\\right)^{2}$"
      ],
      "text/plain": [
       "(x**3 + x + 1)**2"
      ]
     },
     "execution_count": 44,
     "metadata": {},
     "output_type": "execute_result"
    }
   ],
   "source": [
    "f*f # 表示式 (expression) 的相乘"
   ]
  },
  {
   "cell_type": "code",
   "execution_count": 45,
   "id": "303d5f2f",
   "metadata": {},
   "outputs": [
    {
     "data": {
      "text/latex": [
       "$\\displaystyle \\left(x^{3} + x + 1\\right)^{3}$"
      ],
      "text/plain": [
       "(x**3 + x + 1)**3"
      ]
     },
     "execution_count": 45,
     "metadata": {},
     "output_type": "execute_result"
    }
   ],
   "source": [
    "f**3  # 表示式 (expression) 的乘冪"
   ]
  },
  {
   "cell_type": "code",
   "execution_count": 46,
   "id": "25b6b700",
   "metadata": {},
   "outputs": [
    {
     "data": {
      "text/latex": [
       "$\\displaystyle x^{9} + 3 x^{7} + 3 x^{6} + 3 x^{5} + 6 x^{4} + 4 x^{3} + 3 x^{2} + 3 x + 1$"
      ],
      "text/plain": [
       "x**9 + 3*x**7 + 3*x**6 + 3*x**5 + 6*x**4 + 4*x**3 + 3*x**2 + 3*x + 1"
      ]
     },
     "execution_count": 46,
     "metadata": {},
     "output_type": "execute_result"
    }
   ],
   "source": [
    "(f**3).expand() # 表示式 (expression) 的展開"
   ]
  },
  {
   "cell_type": "code",
   "execution_count": 47,
   "id": "bfc5c843",
   "metadata": {},
   "outputs": [
    {
     "data": {
      "text/latex": [
       "$\\displaystyle \\left(x^{3} + x + 1\\right)^{3}$"
      ],
      "text/plain": [
       "(x**3 + x + 1)**3"
      ]
     },
     "execution_count": 47,
     "metadata": {},
     "output_type": "execute_result"
    }
   ],
   "source": [
    "g= (f**3).expand() # 表示式 (expression) 的因式分解\n",
    "g.factor()"
   ]
  },
  {
   "cell_type": "code",
   "execution_count": 48,
   "id": "9a559beb",
   "metadata": {},
   "outputs": [
    {
     "data": {
      "text/latex": [
       "$\\displaystyle 3 x^{2} + 1$"
      ],
      "text/plain": [
       "3*x**2 + 1"
      ]
     },
     "execution_count": 48,
     "metadata": {},
     "output_type": "execute_result"
    }
   ],
   "source": [
    "f.diff(x) # 表示式 (expression) 的微分"
   ]
  },
  {
   "cell_type": "code",
   "execution_count": 49,
   "id": "3ddbadeb",
   "metadata": {},
   "outputs": [
    {
     "data": {
      "text/latex": [
       "$\\displaystyle \\frac{x^{4}}{4} + \\frac{x^{2}}{2} + x$"
      ],
      "text/plain": [
       "x**4/4 + x**2/2 + x"
      ]
     },
     "execution_count": 49,
     "metadata": {},
     "output_type": "execute_result"
    }
   ],
   "source": [
    "f.integrate(x) # 表示式 (expression) 的積分"
   ]
  },
  {
   "cell_type": "code",
   "execution_count": 50,
   "id": "68883b81",
   "metadata": {},
   "outputs": [
    {
     "data": {
      "text/latex": [
       "$\\displaystyle 2560$"
      ],
      "text/plain": [
       "2560"
      ]
     },
     "execution_count": 50,
     "metadata": {},
     "output_type": "execute_result"
    }
   ],
   "source": [
    "f.integrate((x,0,10)) # 表示式 (expression) 的定積分"
   ]
  },
  {
   "cell_type": "code",
   "execution_count": 51,
   "id": "42567aa3",
   "metadata": {},
   "outputs": [
    {
     "data": {
      "text/latex": [
       "$\\displaystyle 1011$"
      ],
      "text/plain": [
       "1011"
      ]
     },
     "execution_count": 51,
     "metadata": {},
     "output_type": "execute_result"
    }
   ],
   "source": [
    "f.subs(x,10)  # 表示式 (expression) 的變數替換 (代入)"
   ]
  },
  {
   "cell_type": "code",
   "execution_count": 52,
   "id": "2c9ffdb3",
   "metadata": {},
   "outputs": [
    {
     "data": {
      "text/latex": [
       "$\\displaystyle 2560$"
      ],
      "text/plain": [
       "2560"
      ]
     },
     "execution_count": 52,
     "metadata": {},
     "output_type": "execute_result"
    }
   ],
   "source": [
    "# 運用 變數替換 (代入)，來驗算定積分\n",
    "F= f.integrate(x)\n",
    "F.subs(x,10) - F.subs(x,0)"
   ]
  },
  {
   "cell_type": "code",
   "execution_count": 53,
   "id": "91a75558",
   "metadata": {},
   "outputs": [
    {
     "data": {
      "text/plain": [
       "True"
      ]
     },
     "execution_count": 53,
     "metadata": {},
     "output_type": "execute_result"
    }
   ],
   "source": [
    "F.subs(x,10) - F.subs(x,0) == f.integrate((x,0,10))"
   ]
  },
  {
   "cell_type": "code",
   "execution_count": 54,
   "id": "e0c36e0d",
   "metadata": {},
   "outputs": [
    {
     "data": {
      "text/latex": [
       "$\\displaystyle 1011$"
      ],
      "text/plain": [
       "1011"
      ]
     },
     "execution_count": 54,
     "metadata": {},
     "output_type": "execute_result"
    }
   ],
   "source": [
    "# 極限\n",
    "sympy.limit(f, x, 10)"
   ]
  },
  {
   "cell_type": "code",
   "execution_count": null,
   "id": "daecfb58",
   "metadata": {},
   "outputs": [],
   "source": []
  }
 ],
 "metadata": {
  "kernelspec": {
   "display_name": "Python 3",
   "language": "python",
   "name": "python3"
  },
  "language_info": {
   "codemirror_mode": {
    "name": "ipython",
    "version": 3
   },
   "file_extension": ".py",
   "mimetype": "text/x-python",
   "name": "python",
   "nbconvert_exporter": "python",
   "pygments_lexer": "ipython3",
   "version": "3.8.8"
  }
 },
 "nbformat": 4,
 "nbformat_minor": 5
}

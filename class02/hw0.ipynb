{
 "cells": [
  {
   "cell_type": "markdown",
   "id": "3d29958e",
   "metadata": {},
   "source": [
    "# 3 variables system of linear equations"
   ]
  },
  {
   "cell_type": "code",
   "execution_count": 63,
   "id": "423d8ef9",
   "metadata": {
    "scrolled": true
   },
   "outputs": [
    {
     "name": "stdout",
     "output_type": "stream",
     "text": [
      "A:\n",
      " [[ 0 -1  1]\n",
      " [-2  0 -1]\n",
      " [ 1  0 -2]]\n",
      "b:\n",
      " [[ 0]\n",
      " [-1]\n",
      " [ 1]]\n",
      "x:\n",
      " [[ 0.6]\n",
      " [-0.2]\n",
      " [-0.2]]\n"
     ]
    }
   ],
   "source": [
    "#n= np.random.randint(最低數值,最高數值) 隨機採樣 \n",
    "#隨機生成器\n",
    "np.random.seed(6) \n",
    "n=3\n",
    "A= np.random.randint(-2,2,size=(n,n)) \n",
    "\n",
    "np.random.seed(6) \n",
    "\n",
    "b= np.random.randint(-2,2,size=(n,1)) \n",
    "\n",
    "x= np.linalg.solve(A, b) \n",
    "print( \"A:\\n\",A)\n",
    "print( \"b:\\n\",b)\n",
    "print( \"x:\\n\",x )\n"
   ]
  },
  {
   "cell_type": "markdown",
   "id": "fa8d942a",
   "metadata": {},
   "source": [
    "##驗算"
   ]
  },
  {
   "cell_type": "code",
   "execution_count": 64,
   "id": "3f257af8",
   "metadata": {},
   "outputs": [
    {
     "data": {
      "text/plain": [
       "array([[-2.22044605e-17],\n",
       "       [-1.00000000e+00],\n",
       "       [ 1.00000000e+00]])"
      ]
     },
     "execution_count": 64,
     "metadata": {},
     "output_type": "execute_result"
    }
   ],
   "source": [
    "Ai= np.linalg.inv(A)\n",
    "b= np.linalg.solve(Ai, x) \n",
    "b"
   ]
  },
  {
   "cell_type": "markdown",
   "id": "7c714412",
   "metadata": {},
   "source": [
    "# 5 variables system of linear equations"
   ]
  },
  {
   "cell_type": "code",
   "execution_count": 65,
   "id": "c63457c2",
   "metadata": {},
   "outputs": [
    {
     "name": "stdout",
     "output_type": "stream",
     "text": [
      "A:\n",
      " [[ 1 -2 -1 -1 -1]\n",
      " [ 0 -2  1 -2  1]\n",
      " [-2 -1 -1 -2 -1]\n",
      " [ 1  0  1 -2 -1]\n",
      " [-1 -1  1 -1  0]]\n",
      "b:\n",
      " [[ 1]\n",
      " [-2]\n",
      " [-1]\n",
      " [-1]\n",
      " [-1]]\n",
      "x:\n",
      " [[ 0.25581395]\n",
      " [-0.34883721]\n",
      " [-0.20930233]\n",
      " [ 0.88372093]\n",
      " [-0.72093023]]\n"
     ]
    }
   ],
   "source": [
    "#n= np.random.randint(最低數值,最高數值) 隨機採樣 \n",
    "#隨機生成器\n",
    "np.random.seed(8) \n",
    "n=5\n",
    "A= np.random.randint(-2,2,size=(n,n)) \n",
    "\n",
    "np.random.seed(8) \n",
    "\n",
    "b= np.random.randint(-2,2,size=(n,1)) \n",
    "\n",
    "x= np.linalg.solve(A, b) \n",
    "print( \"A:\\n\",A)\n",
    "print( \"b:\\n\",b)\n",
    "print( \"x:\\n\",x )\n"
   ]
  },
  {
   "cell_type": "markdown",
   "id": "92786f03",
   "metadata": {},
   "source": [
    "##驗算"
   ]
  },
  {
   "cell_type": "code",
   "execution_count": 66,
   "id": "1550d9f2",
   "metadata": {},
   "outputs": [
    {
     "data": {
      "text/plain": [
       "array([[ 1.],\n",
       "       [-2.],\n",
       "       [-1.],\n",
       "       [-1.],\n",
       "       [-1.]])"
      ]
     },
     "execution_count": 66,
     "metadata": {},
     "output_type": "execute_result"
    }
   ],
   "source": [
    "Ai= np.linalg.inv(A)\n",
    "b= np.linalg.solve(Ai, x) \n",
    "b"
   ]
  },
  {
   "cell_type": "markdown",
   "id": "d5454f9e",
   "metadata": {},
   "source": [
    "# 10 variables system of linear equations"
   ]
  },
  {
   "cell_type": "code",
   "execution_count": 58,
   "id": "e5e3ec91",
   "metadata": {},
   "outputs": [
    {
     "name": "stdout",
     "output_type": "stream",
     "text": [
      "A:\n",
      " [[ 3  3  1 -3  3  2 -3 -4  0 -1]\n",
      " [-1  0  2 -2  1 -1 -2  2  1 -4]\n",
      " [-2  0  3 -1  1 -2  4 -3 -5 -1]\n",
      " [-3 -1 -4  2  3 -3  4  3  2 -4]\n",
      " [ 1  3  0  4  4  4 -2 -5 -5 -3]\n",
      " [ 3  3 -3  4  1  0  1  1  1 -2]\n",
      " [ 3 -3 -4 -1  3 -4  1  4  0 -4]\n",
      " [-3 -1  2  1 -1  0  3 -2 -5 -5]\n",
      " [ 0  2  0 -5  3  1  0 -4  2 -1]\n",
      " [-2  1 -4 -1 -5  3  0 -1 -3  4]]\n",
      "b:\n",
      " [[ 3]\n",
      " [ 3]\n",
      " [ 1]\n",
      " [-3]\n",
      " [ 3]\n",
      " [ 2]\n",
      " [-3]\n",
      " [-4]\n",
      " [ 0]\n",
      " [-1]]\n",
      "x:\n",
      " [[ 0.28932661]\n",
      " [ 1.79022715]\n",
      " [ 1.33534126]\n",
      " [-0.91532835]\n",
      " [ 1.68151746]\n",
      " [ 2.4614375 ]\n",
      " [ 1.24569794]\n",
      " [ 3.18427613]\n",
      " [-1.05638238]\n",
      " [ 0.81321664]]\n"
     ]
    }
   ],
   "source": [
    "#n= np.random.randint(最低數值,最高數值) 隨機採樣 \n",
    "n= np.random.randint(2,10) \n",
    "#隨機生成器\n",
    "np.random.seed(2) \n",
    "\n",
    "A= np.random.randint(-5,5,size=(10,10)) \n",
    "\n",
    "np.random.seed(2) \n",
    "\n",
    "b= np.random.randint(-5,5,size=(10,1)) \n",
    "\n",
    "x= np.linalg.solve(A, b) \n",
    "print( \"A:\\n\",A)\n",
    "print( \"b:\\n\",b)\n",
    "print( \"x:\\n\",x )\n"
   ]
  },
  {
   "cell_type": "markdown",
   "id": "907a364d",
   "metadata": {},
   "source": [
    "##驗證"
   ]
  },
  {
   "cell_type": "code",
   "execution_count": 60,
   "id": "cfbca7f6",
   "metadata": {},
   "outputs": [
    {
     "data": {
      "text/plain": [
       "array([[ 3.00000000e+00],\n",
       "       [ 3.00000000e+00],\n",
       "       [ 1.00000000e+00],\n",
       "       [-3.00000000e+00],\n",
       "       [ 3.00000000e+00],\n",
       "       [ 2.00000000e+00],\n",
       "       [-3.00000000e+00],\n",
       "       [-4.00000000e+00],\n",
       "       [ 7.06032455e-16],\n",
       "       [-1.00000000e+00]])"
      ]
     },
     "execution_count": 60,
     "metadata": {},
     "output_type": "execute_result"
    }
   ],
   "source": [
    "Ai= np.linalg.inv(A)\n",
    "b= np.linalg.solve(Ai, x) \n",
    "b"
   ]
  },
  {
   "cell_type": "code",
   "execution_count": null,
   "id": "17265288",
   "metadata": {},
   "outputs": [],
   "source": []
  }
 ],
 "metadata": {
  "kernelspec": {
   "display_name": "Python 3",
   "language": "python",
   "name": "python3"
  },
  "language_info": {
   "codemirror_mode": {
    "name": "ipython",
    "version": 3
   },
   "file_extension": ".py",
   "mimetype": "text/x-python",
   "name": "python",
   "nbconvert_exporter": "python",
   "pygments_lexer": "ipython3",
   "version": "3.8.8"
  }
 },
 "nbformat": 4,
 "nbformat_minor": 5
}

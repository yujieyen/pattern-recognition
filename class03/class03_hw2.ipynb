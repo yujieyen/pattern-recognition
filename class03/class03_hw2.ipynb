{
 "cells": [
  {
   "cell_type": "code",
   "execution_count": 4,
   "id": "0d236d0b",
   "metadata": {},
   "outputs": [],
   "source": [
    "import os\n",
    "import sys\n",
    "import glob\n",
    "import matplotlib.pyplot as plt\n",
    "import numpy as np\n",
    "import pandas as pd\n",
    "%matplotlib inline\n",
    "%precision 4\n",
    "plt.style.use('ggplot')\n"
   ]
  },
  {
   "cell_type": "markdown",
   "id": "531496c8",
   "metadata": {},
   "source": [
    "# LU"
   ]
  },
  {
   "cell_type": "code",
   "execution_count": 11,
   "id": "55218454",
   "metadata": {},
   "outputs": [
    {
     "name": "stdout",
     "output_type": "stream",
     "text": [
      "A:\n",
      " [[ 1  3  5]\n",
      " [ 3 13 23]\n",
      " [ 5 23 42]]\n",
      "np.dot(P.T, A):\n",
      " [[ 5. 23. 42.]\n",
      " [ 1.  3.  5.]\n",
      " [ 3. 13. 23.]]\n",
      "np.dot(L, U):\n",
      " [[ 5. 23. 42.]\n",
      " [ 1.  3.  5.]\n",
      " [ 3. 13. 23.]]\n",
      "P:\n",
      " [[0. 1. 0.]\n",
      " [0. 0. 1.]\n",
      " [1. 0. 0.]]\n",
      "L:\n",
      " [[1.  0.  0. ]\n",
      " [0.2 1.  0. ]\n",
      " [0.6 0.5 1. ]]\n",
      "U:\n",
      " [[ 5.  23.  42. ]\n",
      " [ 0.  -1.6 -3.4]\n",
      " [ 0.   0.  -0.5]]\n"
     ]
    }
   ],
   "source": [
    "import numpy as np\n",
    "import scipy.linalg as la\n",
    "np.set_printoptions(suppress=True)\n",
    "A = np.array([[1,3,5],[3,13,23],[5,23,42]])\n",
    "print(\"A:\\n\",A)\n",
    "\n",
    "P, L, U = la.lu(A)\n",
    "print(\"np.dot(P.T, A):\\n\",np.dot(P.T, A))\n",
    "print(\"np.dot(L, U):\\n\",np.dot(L, U))\n",
    "print(\"P:\\n\",P)\n",
    "print(\"L:\\n\",L)\n",
    "print(\"U:\\n\",U)"
   ]
  },
  {
   "cell_type": "markdown",
   "id": "90a20d9a",
   "metadata": {},
   "source": [
    "# Cholesky Decomposition"
   ]
  },
  {
   "cell_type": "code",
   "execution_count": 12,
   "id": "ea9d9a36",
   "metadata": {},
   "outputs": [
    {
     "name": "stdout",
     "output_type": "stream",
     "text": [
      "np.dot(L.T, L):\n",
      " [[ 1.  3.  5.]\n",
      " [ 3. 13. 23.]\n",
      " [ 5. 23. 42.]]\n",
      "L:\n",
      " [[1. 3. 5.]\n",
      " [0. 2. 4.]\n",
      " [0. 0. 1.]]\n",
      "A:\n",
      " [[ 1  3  5]\n",
      " [ 3 13 23]\n",
      " [ 5 23 42]]\n"
     ]
    }
   ],
   "source": [
    "L = la.cholesky(A)\n",
    "print(\"np.dot(L.T, L):\\n\",np.dot(L.T, L))\n",
    "print(\"L:\\n\",L)\n",
    "print(\"A:\\n\",A)"
   ]
  },
  {
   "cell_type": "markdown",
   "id": "10efa0ca",
   "metadata": {},
   "source": [
    "# Stabilty and Condition Number"
   ]
  },
  {
   "cell_type": "code",
   "execution_count": 13,
   "id": "900b9543",
   "metadata": {},
   "outputs": [
    {
     "data": {
      "text/plain": [
       "array([1., 1., 1.])"
      ]
     },
     "execution_count": 13,
     "metadata": {},
     "output_type": "execute_result"
    }
   ],
   "source": [
    "b = np.array([9,39,70])\n",
    "la.solve(A,b)"
   ]
  },
  {
   "cell_type": "code",
   "execution_count": null,
   "id": "e82d7122",
   "metadata": {},
   "outputs": [],
   "source": []
  }
 ],
 "metadata": {
  "kernelspec": {
   "display_name": "Python 3",
   "language": "python",
   "name": "python3"
  },
  "language_info": {
   "codemirror_mode": {
    "name": "ipython",
    "version": 3
   },
   "file_extension": ".py",
   "mimetype": "text/x-python",
   "name": "python",
   "nbconvert_exporter": "python",
   "pygments_lexer": "ipython3",
   "version": "3.8.8"
  }
 },
 "nbformat": 4,
 "nbformat_minor": 5
}

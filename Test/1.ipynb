{
 "cells": [
  {
   "cell_type": "markdown",
   "id": "43a6c4de",
   "metadata": {},
   "source": [
    "# 1"
   ]
  },
  {
   "cell_type": "markdown",
   "id": "8101d42f",
   "metadata": {},
   "source": [
    "#寫法1"
   ]
  },
  {
   "cell_type": "code",
   "execution_count": 18,
   "id": "b018436e",
   "metadata": {},
   "outputs": [
    {
     "ename": "AttributeError",
     "evalue": "'Pow' object has no attribute 'intergret'",
     "output_type": "error",
     "traceback": [
      "\u001b[1;31m---------------------------------------------------------------------------\u001b[0m",
      "\u001b[1;31mAttributeError\u001b[0m                            Traceback (most recent call last)",
      "\u001b[1;32m<ipython-input-18-aec503011104>\u001b[0m in \u001b[0;36m<module>\u001b[1;34m\u001b[0m\n\u001b[0;32m      3\u001b[0m \u001b[0mx\u001b[0m\u001b[1;33m=\u001b[0m \u001b[0msm\u001b[0m\u001b[1;33m.\u001b[0m\u001b[0msymbols\u001b[0m\u001b[1;33m(\u001b[0m\u001b[1;34m'x'\u001b[0m\u001b[1;33m)\u001b[0m\u001b[1;33m\u001b[0m\u001b[1;33m\u001b[0m\u001b[0m\n\u001b[0;32m      4\u001b[0m \u001b[0my\u001b[0m\u001b[1;33m=\u001b[0m\u001b[0mx\u001b[0m\u001b[1;33m**\u001b[0m\u001b[1;36m10\u001b[0m\u001b[1;33m\u001b[0m\u001b[1;33m\u001b[0m\u001b[0m\n\u001b[1;32m----> 5\u001b[1;33m \u001b[0my1\u001b[0m\u001b[1;33m=\u001b[0m\u001b[0my\u001b[0m\u001b[1;33m.\u001b[0m\u001b[0mintergret\u001b[0m\u001b[1;33m(\u001b[0m\u001b[0mx\u001b[0m\u001b[1;33m)\u001b[0m\u001b[1;33m\u001b[0m\u001b[1;33m\u001b[0m\u001b[0m\n\u001b[0m\u001b[0;32m      6\u001b[0m \u001b[1;33m\u001b[0m\u001b[0m\n",
      "\u001b[1;31mAttributeError\u001b[0m: 'Pow' object has no attribute 'intergret'"
     ]
    }
   ],
   "source": [
    "#1-1    "
   ]
  },
  {
   "cell_type": "code",
   "execution_count": 10,
   "id": "55d12972",
   "metadata": {},
   "outputs": [
    {
     "data": {
      "text/latex": [
       "$\\displaystyle \\frac{n^{11}}{11} + \\frac{n^{10}}{2} + \\frac{5 n^{9}}{6} - n^{7} + n^{5} - \\frac{n^{3}}{2} + \\frac{5 n}{66}$"
      ],
      "text/plain": [
       "n**11/11 + n**10/2 + 5*n**9/6 - n**7 + n**5 - n**3/2 + 5*n/66"
      ]
     },
     "execution_count": 10,
     "metadata": {},
     "output_type": "execute_result"
    }
   ],
   "source": [
    "#1-2\n",
    "from sympy import summation, oo, symbols, log\n",
    "i, n, m = symbols('i n m', integer=True)\n",
    "summation(i**10, (i, 0, n))"
   ]
  },
  {
   "cell_type": "code",
   "execution_count": 11,
   "id": "25d2b8fd",
   "metadata": {},
   "outputs": [
    {
     "data": {
      "text/latex": [
       "$\\displaystyle \\frac{n^{11}}{11} - \\frac{n^{10}}{2} + \\frac{5 n^{9}}{6} - n^{7} + n^{5} - \\frac{n^{3}}{2} + \\frac{5 n}{66}$"
      ],
      "text/plain": [
       "n**11/11 - n**10/2 + 5*n**9/6 - n**7 + n**5 - n**3/2 + 5*n/66"
      ]
     },
     "execution_count": 11,
     "metadata": {},
     "output_type": "execute_result"
    }
   ],
   "source": [
    "#1-3\n",
    "from sympy import summation, oo, symbols, log\n",
    "i, n, m = symbols('i n m', integer=True)\n",
    "summation((i-1)**10, (i, 1, n))"
   ]
  },
  {
   "cell_type": "markdown",
   "id": "7d63f34c",
   "metadata": {},
   "source": [
    "#寫法2"
   ]
  },
  {
   "cell_type": "code",
   "execution_count": 13,
   "id": "effa8b82",
   "metadata": {},
   "outputs": [
    {
     "name": "stdout",
     "output_type": "stream",
     "text": [
      "f= Sum(i**10, (i, 0, n))\n"
     ]
    },
    {
     "data": {
      "text/latex": [
       "$\\displaystyle \\sum_{i=0}^{n} i^{10}$"
      ],
      "text/plain": [
       "Sum(i**10, (i, 0, n))"
      ]
     },
     "metadata": {},
     "output_type": "display_data"
    },
    {
     "data": {
      "text/latex": [
       "$\\displaystyle \\frac{n^{11}}{11} + \\frac{n^{10}}{2} + \\frac{5 n^{9}}{6} - n^{7} + n^{5} - \\frac{n^{3}}{2} + \\frac{5 n}{66}$"
      ],
      "text/plain": [
       "n**11/11 + n**10/2 + 5*n**9/6 - n**7 + n**5 - n**3/2 + 5*n/66"
      ]
     },
     "metadata": {},
     "output_type": "display_data"
    }
   ],
   "source": [
    "#1-2\n",
    "import sympy as sm\n",
    "i, n= sm.symbols('i, n') \n",
    "\n",
    "f= sm.Sum( i**10, (i, 0, n)) \n",
    "    \n",
    "a= f.doit() \n",
    "print(f'f= {f}') \n",
    "display(f) \n",
    "display(a)  "
   ]
  },
  {
   "cell_type": "code",
   "execution_count": 14,
   "id": "4d49e6d1",
   "metadata": {},
   "outputs": [
    {
     "name": "stdout",
     "output_type": "stream",
     "text": [
      "f= Sum((i - 1)**10, (i, 1, n))\n"
     ]
    },
    {
     "data": {
      "text/latex": [
       "$\\displaystyle \\sum_{i=1}^{n} \\left(i - 1\\right)^{10}$"
      ],
      "text/plain": [
       "Sum((i - 1)**10, (i, 1, n))"
      ]
     },
     "metadata": {},
     "output_type": "display_data"
    },
    {
     "data": {
      "text/latex": [
       "$\\displaystyle \\frac{n^{11}}{11} - \\frac{n^{10}}{2} + \\frac{5 n^{9}}{6} - n^{7} + n^{5} - \\frac{n^{3}}{2} + \\frac{5 n}{66}$"
      ],
      "text/plain": [
       "n**11/11 - n**10/2 + 5*n**9/6 - n**7 + n**5 - n**3/2 + 5*n/66"
      ]
     },
     "metadata": {},
     "output_type": "display_data"
    }
   ],
   "source": [
    "#1-3\n",
    "import sympy as sm\n",
    "i, n= sm.symbols('i, n') \n",
    "\n",
    "f= sm.Sum( (i-1)**10, (i, 1, n)) \n",
    "    \n",
    "a= f.doit() \n",
    "print(f'f= {f}') \n",
    "display(f) \n",
    "display(a)  "
   ]
  },
  {
   "cell_type": "code",
   "execution_count": null,
   "id": "c46c3057",
   "metadata": {},
   "outputs": [],
   "source": []
  }
 ],
 "metadata": {
  "kernelspec": {
   "display_name": "Python 3",
   "language": "python",
   "name": "python3"
  },
  "language_info": {
   "codemirror_mode": {
    "name": "ipython",
    "version": 3
   },
   "file_extension": ".py",
   "mimetype": "text/x-python",
   "name": "python",
   "nbconvert_exporter": "python",
   "pygments_lexer": "ipython3",
   "version": "3.8.8"
  }
 },
 "nbformat": 4,
 "nbformat_minor": 5
}

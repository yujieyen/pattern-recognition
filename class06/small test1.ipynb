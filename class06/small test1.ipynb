{
 "cells": [
  {
   "cell_type": "code",
   "execution_count": 6,
   "id": "e9c5a34b",
   "metadata": {},
   "outputs": [
    {
     "name": "stdout",
     "output_type": "stream",
     "text": [
      "k= 3\n",
      "f= Sum(i**3, (i, 1, n))\n"
     ]
    },
    {
     "data": {
      "text/latex": [
       "$\\displaystyle \\sum_{i=1}^{n} i^{3}$"
      ],
      "text/plain": [
       "Sum(i**3, (i, 1, n))"
      ]
     },
     "metadata": {},
     "output_type": "display_data"
    },
    {
     "data": {
      "text/latex": [
       "$\\displaystyle \\frac{n^{4}}{4} + \\frac{n^{3}}{2} + \\frac{n^{2}}{4}$"
      ],
      "text/plain": [
       "n**4/4 + n**3/2 + n**2/4"
      ]
     },
     "metadata": {},
     "output_type": "display_data"
    }
   ],
   "source": [
    "import sympy as sm\n",
    "i, n= sm.symbols('i, n') \n",
    "\n",
    "f= sm.Sum( i**3, (i, 1, n)) \n",
    "    \n",
    "a= f.doit() \n",
    "print(f'k= {3}') \n",
    "print(f'f= {f}') \n",
    "display(f) \n",
    "display(a) "
   ]
  },
  {
   "cell_type": "code",
   "execution_count": 7,
   "id": "7c876218",
   "metadata": {},
   "outputs": [
    {
     "name": "stdout",
     "output_type": "stream",
     "text": [
      "k= 3\n",
      "f= Sum(i**4, (i, 1, n))\n"
     ]
    },
    {
     "data": {
      "text/latex": [
       "$\\displaystyle \\sum_{i=1}^{n} i^{4}$"
      ],
      "text/plain": [
       "Sum(i**4, (i, 1, n))"
      ]
     },
     "metadata": {},
     "output_type": "display_data"
    },
    {
     "data": {
      "text/latex": [
       "$\\displaystyle \\frac{n^{5}}{5} + \\frac{n^{4}}{2} + \\frac{n^{3}}{3} - \\frac{n}{30}$"
      ],
      "text/plain": [
       "n**5/5 + n**4/2 + n**3/3 - n/30"
      ]
     },
     "metadata": {},
     "output_type": "display_data"
    }
   ],
   "source": [
    "f= sm.Sum( i**4, (i, 1, n)) \n",
    "    \n",
    "a= f.doit() \n",
    "print(f'k= {3}') \n",
    "print(f'f= {f}') \n",
    "display(f) \n",
    "display(a) "
   ]
  },
  {
   "cell_type": "code",
   "execution_count": 8,
   "id": "4bb7f531",
   "metadata": {},
   "outputs": [
    {
     "name": "stdout",
     "output_type": "stream",
     "text": [
      "k= 3\n",
      "f= Sum(i**5, (i, 1, n))\n"
     ]
    },
    {
     "data": {
      "text/latex": [
       "$\\displaystyle \\sum_{i=1}^{n} i^{5}$"
      ],
      "text/plain": [
       "Sum(i**5, (i, 1, n))"
      ]
     },
     "metadata": {},
     "output_type": "display_data"
    },
    {
     "data": {
      "text/latex": [
       "$\\displaystyle \\frac{n^{6}}{6} + \\frac{n^{5}}{2} + \\frac{5 n^{4}}{12} - \\frac{n^{2}}{12}$"
      ],
      "text/plain": [
       "n**6/6 + n**5/2 + 5*n**4/12 - n**2/12"
      ]
     },
     "metadata": {},
     "output_type": "display_data"
    }
   ],
   "source": [
    "f= sm.Sum( i**5, (i, 1, n)) \n",
    "    \n",
    "a= f.doit() \n",
    "print(f'k= {3}') \n",
    "print(f'f= {f}') \n",
    "display(f) \n",
    "display(a) "
   ]
  },
  {
   "cell_type": "code",
   "execution_count": 9,
   "id": "d47f1a29",
   "metadata": {},
   "outputs": [
    {
     "name": "stdout",
     "output_type": "stream",
     "text": [
      "k= 3\n",
      "f= Sum(i**6, (i, 1, n))\n"
     ]
    },
    {
     "data": {
      "text/latex": [
       "$\\displaystyle \\sum_{i=1}^{n} i^{6}$"
      ],
      "text/plain": [
       "Sum(i**6, (i, 1, n))"
      ]
     },
     "metadata": {},
     "output_type": "display_data"
    },
    {
     "data": {
      "text/latex": [
       "$\\displaystyle \\frac{n^{7}}{7} + \\frac{n^{6}}{2} + \\frac{n^{5}}{2} - \\frac{n^{3}}{6} + \\frac{n}{42}$"
      ],
      "text/plain": [
       "n**7/7 + n**6/2 + n**5/2 - n**3/6 + n/42"
      ]
     },
     "metadata": {},
     "output_type": "display_data"
    }
   ],
   "source": [
    "f= sm.Sum( i**6, (i, 1, n)) \n",
    "    \n",
    "a= f.doit() \n",
    "print(f'k= {3}') \n",
    "print(f'f= {f}') \n",
    "display(f) \n",
    "display(a) "
   ]
  },
  {
   "cell_type": "code",
   "execution_count": null,
   "id": "86ddf2bf",
   "metadata": {},
   "outputs": [],
   "source": []
  }
 ],
 "metadata": {
  "kernelspec": {
   "display_name": "Python 3",
   "language": "python",
   "name": "python3"
  },
  "language_info": {
   "codemirror_mode": {
    "name": "ipython",
    "version": 3
   },
   "file_extension": ".py",
   "mimetype": "text/x-python",
   "name": "python",
   "nbconvert_exporter": "python",
   "pygments_lexer": "ipython3",
   "version": "3.8.8"
  }
 },
 "nbformat": 4,
 "nbformat_minor": 5
}

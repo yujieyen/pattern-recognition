{
 "cells": [
  {
   "cell_type": "code",
   "execution_count": 1,
   "id": "019b16dc",
   "metadata": {},
   "outputs": [],
   "source": [
    "import numpy as np\n",
    "import scipy.linalg as la\n",
    "import matplotlib.pyplot as plt\n",
    "%matplotlib inline\n",
    "plt.style.use('ggplot')"
   ]
  },
  {
   "cell_type": "code",
   "execution_count": 115,
   "id": "39d3251a",
   "metadata": {},
   "outputs": [
    {
     "data": {
      "text/plain": [
       "True"
      ]
     },
     "execution_count": 115,
     "metadata": {},
     "output_type": "execute_result"
    }
   ],
   "source": [
    "A = np.array([[8,3],[2,5]])\n",
    "b = np.array([7,15])\n",
    "x = la.solve(A, b)\n",
    "np.allclose(A @ x, b)"
   ]
  },
  {
   "cell_type": "code",
   "execution_count": 116,
   "id": "acf7e974",
   "metadata": {},
   "outputs": [
    {
     "name": "stdout",
     "output_type": "stream",
     "text": [
      "A:\n",
      " [[8 3]\n",
      " [2 5]]\n",
      "b:\n",
      " [ 7 15]\n",
      "x:\n",
      " [-0.29411765  3.11764706]\n"
     ]
    }
   ],
   "source": [
    "print(\"A:\\n\",A)\n",
    "print(\"b:\\n\",b)\n",
    "print(\"x:\\n\",x)"
   ]
  },
  {
   "cell_type": "code",
   "execution_count": 117,
   "id": "cc331150",
   "metadata": {},
   "outputs": [
    {
     "name": "stdout",
     "output_type": "stream",
     "text": [
      "x:\n",
      " [-0.29411765  3.11764706]\n"
     ]
    }
   ],
   "source": [
    "import scipy.linalg.lapack as lapack\n",
    "lu, piv, x, info = lapack.dgesv(A, b)\n",
    "print(\"x:\\n\",x)"
   ]
  },
  {
   "cell_type": "code",
   "execution_count": 118,
   "id": "1933671c",
   "metadata": {},
   "outputs": [
    {
     "data": {
      "text/plain": [
       "array([-0.29411765,  3.11764706])"
      ]
     },
     "execution_count": 118,
     "metadata": {},
     "output_type": "execute_result"
    }
   ],
   "source": [
    "la.solve(A, b)"
   ]
  },
  {
   "cell_type": "markdown",
   "id": "2a2de0ce",
   "metadata": {},
   "source": [
    "# LU"
   ]
  },
  {
   "cell_type": "code",
   "execution_count": 119,
   "id": "16cf2655",
   "metadata": {},
   "outputs": [
    {
     "name": "stdout",
     "output_type": "stream",
     "text": [
      "p:\n",
      " [[1. 0.]\n",
      " [0. 1.]]\n",
      "l:\n",
      " [[1.   0.  ]\n",
      " [0.25 1.  ]]\n",
      "u:\n",
      " [[8.   3.  ]\n",
      " [0.   4.25]]\n"
     ]
    }
   ],
   "source": [
    "p, l, u = la.lu(A)\n",
    "print(\"p:\\n\",p)\n",
    "print(\"l:\\n\",l)\n",
    "print(\"u:\\n\",u)"
   ]
  },
  {
   "cell_type": "markdown",
   "id": "0212808f",
   "metadata": {},
   "source": [
    "# Choleskey"
   ]
  },
  {
   "cell_type": "code",
   "execution_count": 120,
   "id": "f97d6e4a",
   "metadata": {},
   "outputs": [
    {
     "name": "stdout",
     "output_type": "stream",
     "text": [
      "U:\n",
      " [[2.82842712 1.06066017]\n",
      " [0.         1.96850197]]\n"
     ]
    }
   ],
   "source": [
    "U = la.cholesky(A)\n",
    "print(\"U:\\n\",U)"
   ]
  },
  {
   "cell_type": "code",
   "execution_count": 121,
   "id": "dd71343a",
   "metadata": {},
   "outputs": [
    {
     "data": {
      "text/plain": [
       "False"
      ]
     },
     "execution_count": 121,
     "metadata": {},
     "output_type": "execute_result"
    }
   ],
   "source": [
    "np.allclose(U.T @ U, A)"
   ]
  },
  {
   "cell_type": "code",
   "execution_count": 122,
   "id": "d593df10",
   "metadata": {},
   "outputs": [
    {
     "data": {
      "text/plain": [
       "False"
      ]
     },
     "execution_count": 122,
     "metadata": {},
     "output_type": "execute_result"
    }
   ],
   "source": [
    "np.allclose(U.T.conj() @ U, A)"
   ]
  },
  {
   "cell_type": "markdown",
   "id": "a99b76ae",
   "metadata": {},
   "source": [
    "# QR"
   ]
  },
  {
   "cell_type": "code",
   "execution_count": 123,
   "id": "19c34fa0",
   "metadata": {},
   "outputs": [
    {
     "name": "stdout",
     "output_type": "stream",
     "text": [
      "Q:\n",
      " [[-0.9701425  -0.24253563]\n",
      " [-0.24253563  0.9701425 ]]\n"
     ]
    }
   ],
   "source": [
    "Q, R = la.qr(A)\n",
    "print(\"Q:\\n\",Q)"
   ]
  },
  {
   "cell_type": "code",
   "execution_count": 124,
   "id": "aaf43bfe",
   "metadata": {},
   "outputs": [
    {
     "data": {
      "text/plain": [
       "True"
      ]
     },
     "execution_count": 124,
     "metadata": {},
     "output_type": "execute_result"
    }
   ],
   "source": [
    "np.allclose((la.norm(Q[:,0]), la.norm(Q[:,1])), (1,1))"
   ]
  },
  {
   "cell_type": "code",
   "execution_count": 125,
   "id": "4f97a0c7",
   "metadata": {},
   "outputs": [
    {
     "data": {
      "text/plain": [
       "True"
      ]
     },
     "execution_count": 125,
     "metadata": {},
     "output_type": "execute_result"
    }
   ],
   "source": [
    "np.allclose(Q@R, A)\n"
   ]
  },
  {
   "cell_type": "code",
   "execution_count": 126,
   "id": "eafdef68",
   "metadata": {},
   "outputs": [
    {
     "name": "stdout",
     "output_type": "stream",
     "text": [
      "u:\n",
      " [9.37228132+0.j 3.62771868+0.j]\n",
      "v:\n",
      " [[ 0.90937671 -0.56576746]\n",
      " [ 0.41597356  0.82456484]]\n"
     ]
    }
   ],
   "source": [
    "u, v = la.eig(A)\n",
    "print(\"u:\\n\",u)\n",
    "print(\"v:\\n\",v)"
   ]
  },
  {
   "cell_type": "markdown",
   "id": "a6b7de11",
   "metadata": {},
   "source": [
    "# Inverting A"
   ]
  },
  {
   "cell_type": "code",
   "execution_count": 127,
   "id": "974c60f7",
   "metadata": {},
   "outputs": [
    {
     "data": {
      "text/plain": [
       "False"
      ]
     },
     "execution_count": 127,
     "metadata": {},
     "output_type": "execute_result"
    }
   ],
   "source": [
    "np.allclose(v @ np.diag(1/u) @ v.T, la.inv(A))"
   ]
  },
  {
   "cell_type": "markdown",
   "id": "5215ef77",
   "metadata": {},
   "source": [
    "# SVD"
   ]
  },
  {
   "cell_type": "code",
   "execution_count": 128,
   "id": "d67f0007",
   "metadata": {},
   "outputs": [
    {
     "name": "stdout",
     "output_type": "stream",
     "text": [
      "U:\n",
      " [[-0.88846694 -0.45894062]\n",
      " [-0.45894062  0.88846694]]\n",
      "s:\n",
      " [9.43467835 3.60372646]\n",
      "V:\n",
      " [[-0.85065081 -0.52573111]\n",
      " [-0.52573111  0.85065081]]\n"
     ]
    }
   ],
   "source": [
    "U, s, V = la.svd(A)\n",
    "print(\"U:\\n\",U)\n",
    "print(\"s:\\n\",s)\n",
    "print(\"V:\\n\",V)"
   ]
  },
  {
   "cell_type": "code",
   "execution_count": 129,
   "id": "9e0c69fe",
   "metadata": {},
   "outputs": [
    {
     "data": {
      "text/plain": [
       "True"
      ]
     },
     "execution_count": 129,
     "metadata": {},
     "output_type": "execute_result"
    }
   ],
   "source": [
    "np.allclose((la.norm(V[:,0]), la.norm(V[:,1])), (1,1))"
   ]
  },
  {
   "cell_type": "code",
   "execution_count": 130,
   "id": "e81106f4",
   "metadata": {},
   "outputs": [
    {
     "data": {
      "text/plain": [
       "True"
      ]
     },
     "execution_count": 130,
     "metadata": {},
     "output_type": "execute_result"
    }
   ],
   "source": [
    "np.allclose(U @ np.diag(s) @ V, A)"
   ]
  }
 ],
 "metadata": {
  "kernelspec": {
   "display_name": "Python 3",
   "language": "python",
   "name": "python3"
  },
  "language_info": {
   "codemirror_mode": {
    "name": "ipython",
    "version": 3
   },
   "file_extension": ".py",
   "mimetype": "text/x-python",
   "name": "python",
   "nbconvert_exporter": "python",
   "pygments_lexer": "ipython3",
   "version": "3.8.8"
  }
 },
 "nbformat": 4,
 "nbformat_minor": 5
}
